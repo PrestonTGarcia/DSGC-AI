{
 "cells": [
  {
   "cell_type": "markdown",
   "source": [
    "# Classification"
   ],
   "metadata": {
    "collapsed": false,
    "pycharm": {
     "name": "#%% md\n"
    }
   }
  },
  {
   "cell_type": "markdown",
   "source": [
    "## Imports\n",
    "Importing important libraries used in the cells below."
   ],
   "metadata": {
    "collapsed": false,
    "pycharm": {
     "name": "#%% md\n"
    }
   }
  },
  {
   "cell_type": "code",
   "execution_count": 29,
   "outputs": [],
   "source": [
    "import numpy as np\n",
    "import pandas as pd\n",
    "import matplotlib.pyplot as plt\n",
    "import seaborn as sns\n",
    "from matplotlib.patches import Patch\n",
    "from sklearn.model_selection import train_test_split\n",
    "from sklearn.model_selection import GridSearchCV\n",
    "from sklearn.model_selection import KFold\n",
    "from sklearn.metrics import accuracy_score\n",
    "from sklearn.metrics import confusion_matrix\n",
    "from sklearn.metrics import roc_auc_score\n",
    "from sklearn.linear_model import LogisticRegression\n",
    "from sklearn.ensemble import RandomForestClassifier\n",
    "from xgboost import XGBClassifier\n",
    "from keras.models import Sequential\n",
    "from keras.layers import Dense\n",
    "from keras.layers import Dropout\n",
    "from keras.callbacks import EarlyStopping\n",
    "from keras.callbacks import ReduceLROnPlateau\n",
    "from keras.optimizers import Adam"
   ],
   "metadata": {
    "collapsed": false,
    "pycharm": {
     "name": "#%%\n"
    }
   }
  },
  {
   "cell_type": "markdown",
   "source": [
    "## Data\n",
    "\n",
    "Load the simulated data downloaded from the [UCI Machine Learning Repository](https://archive.ics.uci.edu/ml/datasets/Electrical+Grid+Stability+Simulated+Data+)."
   ],
   "metadata": {
    "collapsed": false,
    "pycharm": {
     "name": "#%% md\n"
    }
   }
  },
  {
   "cell_type": "code",
   "execution_count": 30,
   "outputs": [
    {
     "data": {
      "text/plain": "          tau1      tau2      tau3      tau4        p1        p2        p3  \\\n0     2.959060  3.079885  8.381025  9.780754  3.763085 -0.782604 -1.257395   \n1     9.304097  4.902524  3.047541  1.369357  5.067812 -1.940058 -1.872742   \n2     8.971707  8.848428  3.046479  1.214518  3.405158 -1.207456 -1.277210   \n3     0.716415  7.669600  4.486641  2.340563  3.963791 -1.027473 -1.938944   \n4     3.134112  7.608772  4.943759  9.857573  3.525811 -1.125531 -1.845975   \n...        ...       ...       ...       ...       ...       ...       ...   \n9995  2.930406  9.487627  2.376523  6.187797  3.343416 -0.658054 -1.449106   \n9996  3.392299  1.274827  2.954947  6.894759  4.349512 -1.663661 -0.952437   \n9997  2.364034  2.842030  8.776391  1.008906  4.299976 -1.380719 -0.943884   \n9998  9.631511  3.994398  2.757071  7.821347  2.514755 -0.966330 -0.649915   \n9999  6.530527  6.781790  4.349695  8.673138  3.492807 -1.390285 -1.532193   \n\n            p4        g1        g2        g3        g4     stabf  \n0    -1.723086  0.650456  0.859578  0.887445  0.958034  unstable  \n1    -1.255012  0.413441  0.862414  0.562139  0.781760    stable  \n2    -0.920492  0.163041  0.766689  0.839444  0.109853  unstable  \n3    -0.997374  0.446209  0.976744  0.929381  0.362718  unstable  \n4    -0.554305  0.797110  0.455450  0.656947  0.820923  unstable  \n...        ...       ...       ...       ...       ...       ...  \n9995 -1.236256  0.601709  0.779642  0.813512  0.608385  unstable  \n9996 -1.733414  0.502079  0.567242  0.285880  0.366120    stable  \n9997 -1.975373  0.487838  0.986505  0.149286  0.145984    stable  \n9998 -0.898510  0.365246  0.587558  0.889118  0.818391  unstable  \n9999 -0.570329  0.073056  0.505441  0.378761  0.942631  unstable  \n\n[10000 rows x 13 columns]",
      "text/html": "<div>\n<style scoped>\n    .dataframe tbody tr th:only-of-type {\n        vertical-align: middle;\n    }\n\n    .dataframe tbody tr th {\n        vertical-align: top;\n    }\n\n    .dataframe thead th {\n        text-align: right;\n    }\n</style>\n<table border=\"1\" class=\"dataframe\">\n  <thead>\n    <tr style=\"text-align: right;\">\n      <th></th>\n      <th>tau1</th>\n      <th>tau2</th>\n      <th>tau3</th>\n      <th>tau4</th>\n      <th>p1</th>\n      <th>p2</th>\n      <th>p3</th>\n      <th>p4</th>\n      <th>g1</th>\n      <th>g2</th>\n      <th>g3</th>\n      <th>g4</th>\n      <th>stabf</th>\n    </tr>\n  </thead>\n  <tbody>\n    <tr>\n      <th>0</th>\n      <td>2.959060</td>\n      <td>3.079885</td>\n      <td>8.381025</td>\n      <td>9.780754</td>\n      <td>3.763085</td>\n      <td>-0.782604</td>\n      <td>-1.257395</td>\n      <td>-1.723086</td>\n      <td>0.650456</td>\n      <td>0.859578</td>\n      <td>0.887445</td>\n      <td>0.958034</td>\n      <td>unstable</td>\n    </tr>\n    <tr>\n      <th>1</th>\n      <td>9.304097</td>\n      <td>4.902524</td>\n      <td>3.047541</td>\n      <td>1.369357</td>\n      <td>5.067812</td>\n      <td>-1.940058</td>\n      <td>-1.872742</td>\n      <td>-1.255012</td>\n      <td>0.413441</td>\n      <td>0.862414</td>\n      <td>0.562139</td>\n      <td>0.781760</td>\n      <td>stable</td>\n    </tr>\n    <tr>\n      <th>2</th>\n      <td>8.971707</td>\n      <td>8.848428</td>\n      <td>3.046479</td>\n      <td>1.214518</td>\n      <td>3.405158</td>\n      <td>-1.207456</td>\n      <td>-1.277210</td>\n      <td>-0.920492</td>\n      <td>0.163041</td>\n      <td>0.766689</td>\n      <td>0.839444</td>\n      <td>0.109853</td>\n      <td>unstable</td>\n    </tr>\n    <tr>\n      <th>3</th>\n      <td>0.716415</td>\n      <td>7.669600</td>\n      <td>4.486641</td>\n      <td>2.340563</td>\n      <td>3.963791</td>\n      <td>-1.027473</td>\n      <td>-1.938944</td>\n      <td>-0.997374</td>\n      <td>0.446209</td>\n      <td>0.976744</td>\n      <td>0.929381</td>\n      <td>0.362718</td>\n      <td>unstable</td>\n    </tr>\n    <tr>\n      <th>4</th>\n      <td>3.134112</td>\n      <td>7.608772</td>\n      <td>4.943759</td>\n      <td>9.857573</td>\n      <td>3.525811</td>\n      <td>-1.125531</td>\n      <td>-1.845975</td>\n      <td>-0.554305</td>\n      <td>0.797110</td>\n      <td>0.455450</td>\n      <td>0.656947</td>\n      <td>0.820923</td>\n      <td>unstable</td>\n    </tr>\n    <tr>\n      <th>...</th>\n      <td>...</td>\n      <td>...</td>\n      <td>...</td>\n      <td>...</td>\n      <td>...</td>\n      <td>...</td>\n      <td>...</td>\n      <td>...</td>\n      <td>...</td>\n      <td>...</td>\n      <td>...</td>\n      <td>...</td>\n      <td>...</td>\n    </tr>\n    <tr>\n      <th>9995</th>\n      <td>2.930406</td>\n      <td>9.487627</td>\n      <td>2.376523</td>\n      <td>6.187797</td>\n      <td>3.343416</td>\n      <td>-0.658054</td>\n      <td>-1.449106</td>\n      <td>-1.236256</td>\n      <td>0.601709</td>\n      <td>0.779642</td>\n      <td>0.813512</td>\n      <td>0.608385</td>\n      <td>unstable</td>\n    </tr>\n    <tr>\n      <th>9996</th>\n      <td>3.392299</td>\n      <td>1.274827</td>\n      <td>2.954947</td>\n      <td>6.894759</td>\n      <td>4.349512</td>\n      <td>-1.663661</td>\n      <td>-0.952437</td>\n      <td>-1.733414</td>\n      <td>0.502079</td>\n      <td>0.567242</td>\n      <td>0.285880</td>\n      <td>0.366120</td>\n      <td>stable</td>\n    </tr>\n    <tr>\n      <th>9997</th>\n      <td>2.364034</td>\n      <td>2.842030</td>\n      <td>8.776391</td>\n      <td>1.008906</td>\n      <td>4.299976</td>\n      <td>-1.380719</td>\n      <td>-0.943884</td>\n      <td>-1.975373</td>\n      <td>0.487838</td>\n      <td>0.986505</td>\n      <td>0.149286</td>\n      <td>0.145984</td>\n      <td>stable</td>\n    </tr>\n    <tr>\n      <th>9998</th>\n      <td>9.631511</td>\n      <td>3.994398</td>\n      <td>2.757071</td>\n      <td>7.821347</td>\n      <td>2.514755</td>\n      <td>-0.966330</td>\n      <td>-0.649915</td>\n      <td>-0.898510</td>\n      <td>0.365246</td>\n      <td>0.587558</td>\n      <td>0.889118</td>\n      <td>0.818391</td>\n      <td>unstable</td>\n    </tr>\n    <tr>\n      <th>9999</th>\n      <td>6.530527</td>\n      <td>6.781790</td>\n      <td>4.349695</td>\n      <td>8.673138</td>\n      <td>3.492807</td>\n      <td>-1.390285</td>\n      <td>-1.532193</td>\n      <td>-0.570329</td>\n      <td>0.073056</td>\n      <td>0.505441</td>\n      <td>0.378761</td>\n      <td>0.942631</td>\n      <td>unstable</td>\n    </tr>\n  </tbody>\n</table>\n<p>10000 rows × 13 columns</p>\n</div>"
     },
     "execution_count": 30,
     "metadata": {},
     "output_type": "execute_result"
    }
   ],
   "source": [
    "# Drop stab since we are only concerned with the classification problem with this data.\n",
    "data = pd.read_csv('./data/Electrical_grid.csv').drop(columns=['stab'])\n",
    "data"
   ],
   "metadata": {
    "collapsed": false,
    "pycharm": {
     "name": "#%%\n"
    }
   }
  },
  {
   "cell_type": "code",
   "execution_count": 31,
   "outputs": [
    {
     "data": {
      "text/plain": "          tau1      tau2      tau3      tau4        p1        p2        p3  \\\n0     2.959060  3.079885  8.381025  9.780754  3.763085 -0.782604 -1.257395   \n1     9.304097  4.902524  3.047541  1.369357  5.067812 -1.940058 -1.872742   \n2     8.971707  8.848428  3.046479  1.214518  3.405158 -1.207456 -1.277210   \n3     0.716415  7.669600  4.486641  2.340563  3.963791 -1.027473 -1.938944   \n4     3.134112  7.608772  4.943759  9.857573  3.525811 -1.125531 -1.845975   \n...        ...       ...       ...       ...       ...       ...       ...   \n9995  2.930406  9.487627  2.376523  6.187797  3.343416 -0.658054 -1.449106   \n9996  3.392299  1.274827  2.954947  6.894759  4.349512 -1.663661 -0.952437   \n9997  2.364034  2.842030  8.776391  1.008906  4.299976 -1.380719 -0.943884   \n9998  9.631511  3.994398  2.757071  7.821347  2.514755 -0.966330 -0.649915   \n9999  6.530527  6.781790  4.349695  8.673138  3.492807 -1.390285 -1.532193   \n\n            p4        g1        g2        g3        g4  stabf  \n0    -1.723086  0.650456  0.859578  0.887445  0.958034      1  \n1    -1.255012  0.413441  0.862414  0.562139  0.781760      0  \n2    -0.920492  0.163041  0.766689  0.839444  0.109853      1  \n3    -0.997374  0.446209  0.976744  0.929381  0.362718      1  \n4    -0.554305  0.797110  0.455450  0.656947  0.820923      1  \n...        ...       ...       ...       ...       ...    ...  \n9995 -1.236256  0.601709  0.779642  0.813512  0.608385      1  \n9996 -1.733414  0.502079  0.567242  0.285880  0.366120      0  \n9997 -1.975373  0.487838  0.986505  0.149286  0.145984      0  \n9998 -0.898510  0.365246  0.587558  0.889118  0.818391      1  \n9999 -0.570329  0.073056  0.505441  0.378761  0.942631      1  \n\n[10000 rows x 13 columns]",
      "text/html": "<div>\n<style scoped>\n    .dataframe tbody tr th:only-of-type {\n        vertical-align: middle;\n    }\n\n    .dataframe tbody tr th {\n        vertical-align: top;\n    }\n\n    .dataframe thead th {\n        text-align: right;\n    }\n</style>\n<table border=\"1\" class=\"dataframe\">\n  <thead>\n    <tr style=\"text-align: right;\">\n      <th></th>\n      <th>tau1</th>\n      <th>tau2</th>\n      <th>tau3</th>\n      <th>tau4</th>\n      <th>p1</th>\n      <th>p2</th>\n      <th>p3</th>\n      <th>p4</th>\n      <th>g1</th>\n      <th>g2</th>\n      <th>g3</th>\n      <th>g4</th>\n      <th>stabf</th>\n    </tr>\n  </thead>\n  <tbody>\n    <tr>\n      <th>0</th>\n      <td>2.959060</td>\n      <td>3.079885</td>\n      <td>8.381025</td>\n      <td>9.780754</td>\n      <td>3.763085</td>\n      <td>-0.782604</td>\n      <td>-1.257395</td>\n      <td>-1.723086</td>\n      <td>0.650456</td>\n      <td>0.859578</td>\n      <td>0.887445</td>\n      <td>0.958034</td>\n      <td>1</td>\n    </tr>\n    <tr>\n      <th>1</th>\n      <td>9.304097</td>\n      <td>4.902524</td>\n      <td>3.047541</td>\n      <td>1.369357</td>\n      <td>5.067812</td>\n      <td>-1.940058</td>\n      <td>-1.872742</td>\n      <td>-1.255012</td>\n      <td>0.413441</td>\n      <td>0.862414</td>\n      <td>0.562139</td>\n      <td>0.781760</td>\n      <td>0</td>\n    </tr>\n    <tr>\n      <th>2</th>\n      <td>8.971707</td>\n      <td>8.848428</td>\n      <td>3.046479</td>\n      <td>1.214518</td>\n      <td>3.405158</td>\n      <td>-1.207456</td>\n      <td>-1.277210</td>\n      <td>-0.920492</td>\n      <td>0.163041</td>\n      <td>0.766689</td>\n      <td>0.839444</td>\n      <td>0.109853</td>\n      <td>1</td>\n    </tr>\n    <tr>\n      <th>3</th>\n      <td>0.716415</td>\n      <td>7.669600</td>\n      <td>4.486641</td>\n      <td>2.340563</td>\n      <td>3.963791</td>\n      <td>-1.027473</td>\n      <td>-1.938944</td>\n      <td>-0.997374</td>\n      <td>0.446209</td>\n      <td>0.976744</td>\n      <td>0.929381</td>\n      <td>0.362718</td>\n      <td>1</td>\n    </tr>\n    <tr>\n      <th>4</th>\n      <td>3.134112</td>\n      <td>7.608772</td>\n      <td>4.943759</td>\n      <td>9.857573</td>\n      <td>3.525811</td>\n      <td>-1.125531</td>\n      <td>-1.845975</td>\n      <td>-0.554305</td>\n      <td>0.797110</td>\n      <td>0.455450</td>\n      <td>0.656947</td>\n      <td>0.820923</td>\n      <td>1</td>\n    </tr>\n    <tr>\n      <th>...</th>\n      <td>...</td>\n      <td>...</td>\n      <td>...</td>\n      <td>...</td>\n      <td>...</td>\n      <td>...</td>\n      <td>...</td>\n      <td>...</td>\n      <td>...</td>\n      <td>...</td>\n      <td>...</td>\n      <td>...</td>\n      <td>...</td>\n    </tr>\n    <tr>\n      <th>9995</th>\n      <td>2.930406</td>\n      <td>9.487627</td>\n      <td>2.376523</td>\n      <td>6.187797</td>\n      <td>3.343416</td>\n      <td>-0.658054</td>\n      <td>-1.449106</td>\n      <td>-1.236256</td>\n      <td>0.601709</td>\n      <td>0.779642</td>\n      <td>0.813512</td>\n      <td>0.608385</td>\n      <td>1</td>\n    </tr>\n    <tr>\n      <th>9996</th>\n      <td>3.392299</td>\n      <td>1.274827</td>\n      <td>2.954947</td>\n      <td>6.894759</td>\n      <td>4.349512</td>\n      <td>-1.663661</td>\n      <td>-0.952437</td>\n      <td>-1.733414</td>\n      <td>0.502079</td>\n      <td>0.567242</td>\n      <td>0.285880</td>\n      <td>0.366120</td>\n      <td>0</td>\n    </tr>\n    <tr>\n      <th>9997</th>\n      <td>2.364034</td>\n      <td>2.842030</td>\n      <td>8.776391</td>\n      <td>1.008906</td>\n      <td>4.299976</td>\n      <td>-1.380719</td>\n      <td>-0.943884</td>\n      <td>-1.975373</td>\n      <td>0.487838</td>\n      <td>0.986505</td>\n      <td>0.149286</td>\n      <td>0.145984</td>\n      <td>0</td>\n    </tr>\n    <tr>\n      <th>9998</th>\n      <td>9.631511</td>\n      <td>3.994398</td>\n      <td>2.757071</td>\n      <td>7.821347</td>\n      <td>2.514755</td>\n      <td>-0.966330</td>\n      <td>-0.649915</td>\n      <td>-0.898510</td>\n      <td>0.365246</td>\n      <td>0.587558</td>\n      <td>0.889118</td>\n      <td>0.818391</td>\n      <td>1</td>\n    </tr>\n    <tr>\n      <th>9999</th>\n      <td>6.530527</td>\n      <td>6.781790</td>\n      <td>4.349695</td>\n      <td>8.673138</td>\n      <td>3.492807</td>\n      <td>-1.390285</td>\n      <td>-1.532193</td>\n      <td>-0.570329</td>\n      <td>0.073056</td>\n      <td>0.505441</td>\n      <td>0.378761</td>\n      <td>0.942631</td>\n      <td>1</td>\n    </tr>\n  </tbody>\n</table>\n<p>10000 rows × 13 columns</p>\n</div>"
     },
     "execution_count": 31,
     "metadata": {},
     "output_type": "execute_result"
    }
   ],
   "source": [
    "# Change target col to 0 if stable and 1 if unstable\n",
    "stab_bool = {\n",
    "    'stable': 0,\n",
    "    'unstable': 1\n",
    "}\n",
    "data['stabf'].replace(stab_bool, inplace=True)\n",
    "data"
   ],
   "metadata": {
    "collapsed": false,
    "pycharm": {
     "name": "#%%\n"
    }
   }
  },
  {
   "cell_type": "code",
   "execution_count": 32,
   "outputs": [
    {
     "data": {
      "text/plain": "(          tau1      tau2      tau3      tau4        p1        p2        p3  \\\n 0     2.959060  3.079885  8.381025  9.780754  3.763085 -0.782604 -1.257395   \n 1     9.304097  4.902524  3.047541  1.369357  5.067812 -1.940058 -1.872742   \n 2     8.971707  8.848428  3.046479  1.214518  3.405158 -1.207456 -1.277210   \n 3     0.716415  7.669600  4.486641  2.340563  3.963791 -1.027473 -1.938944   \n 4     3.134112  7.608772  4.943759  9.857573  3.525811 -1.125531 -1.845975   \n ...        ...       ...       ...       ...       ...       ...       ...   \n 9995  2.930406  9.487627  2.376523  6.187797  3.343416 -0.658054 -1.449106   \n 9996  3.392299  1.274827  2.954947  6.894759  4.349512 -1.663661 -0.952437   \n 9997  2.364034  2.842030  8.776391  1.008906  4.299976 -1.380719 -0.943884   \n 9998  9.631511  3.994398  2.757071  7.821347  2.514755 -0.966330 -0.649915   \n 9999  6.530527  6.781790  4.349695  8.673138  3.492807 -1.390285 -1.532193   \n \n             p4        g1        g2        g3        g4  \n 0    -1.723086  0.650456  0.859578  0.887445  0.958034  \n 1    -1.255012  0.413441  0.862414  0.562139  0.781760  \n 2    -0.920492  0.163041  0.766689  0.839444  0.109853  \n 3    -0.997374  0.446209  0.976744  0.929381  0.362718  \n 4    -0.554305  0.797110  0.455450  0.656947  0.820923  \n ...        ...       ...       ...       ...       ...  \n 9995 -1.236256  0.601709  0.779642  0.813512  0.608385  \n 9996 -1.733414  0.502079  0.567242  0.285880  0.366120  \n 9997 -1.975373  0.487838  0.986505  0.149286  0.145984  \n 9998 -0.898510  0.365246  0.587558  0.889118  0.818391  \n 9999 -0.570329  0.073056  0.505441  0.378761  0.942631  \n \n [10000 rows x 12 columns],\n 0       1\n 1       0\n 2       1\n 3       1\n 4       1\n        ..\n 9995    1\n 9996    0\n 9997    0\n 9998    1\n 9999    1\n Name: stabf, Length: 10000, dtype: int64)"
     },
     "execution_count": 32,
     "metadata": {},
     "output_type": "execute_result"
    }
   ],
   "source": [
    "# Split into X and y.\n",
    "target_col = 'stabf'\n",
    "X = data.drop(columns=[target_col])\n",
    "y = data[target_col]\n",
    "X, y"
   ],
   "metadata": {
    "collapsed": false,
    "pycharm": {
     "name": "#%%\n"
    }
   }
  },
  {
   "cell_type": "code",
   "execution_count": 33,
   "outputs": [],
   "source": [
    "# Split into train and test\n",
    "X_train, X_test, y_train, y_test = train_test_split(X, y, test_size=0.3)"
   ],
   "metadata": {
    "collapsed": false,
    "pycharm": {
     "name": "#%%\n"
    }
   }
  },
  {
   "cell_type": "markdown",
   "source": [
    "## Data Analysis\n",
    "Plots and correlations to see if any features can be dropped."
   ],
   "metadata": {
    "collapsed": false,
    "pycharm": {
     "name": "#%% md\n"
    }
   }
  },
  {
   "cell_type": "code",
   "execution_count": 34,
   "outputs": [
    {
     "data": {
      "text/plain": "tau1     0.234898\ntau2     0.246280\ntau3     0.237492\ntau4     0.239375\np1       0.009938\np2       0.006173\np3      -0.000649\np4      -0.022785\ng1       0.197664\ng2       0.217341\ng3       0.231774\ng4       0.204931\nstabf    1.000000\nName: stabf, dtype: float64"
     },
     "execution_count": 34,
     "metadata": {},
     "output_type": "execute_result"
    }
   ],
   "source": [
    "data.corr()['stabf']"
   ],
   "metadata": {
    "collapsed": false,
    "pycharm": {
     "name": "#%%\n"
    }
   }
  },
  {
   "cell_type": "code",
   "execution_count": 35,
   "outputs": [
    {
     "data": {
      "text/plain": "<Figure size 1152x576 with 0 Axes>"
     },
     "metadata": {},
     "output_type": "display_data"
    },
    {
     "data": {
      "text/plain": "<Figure size 432x288 with 4 Axes>",
      "image/png": "[encoded data removed]"
     },
     "metadata": {},
     "output_type": "display_data"
    }
   ],
   "source": [
    "plt.figure(figsize=(16, 8))\n",
    "fig, ax = plt.subplots(2, 2)\n",
    "i = 0\n",
    "j = 0\n",
    "legend = [Patch(facecolor='blue', alpha=0.5),\n",
    "          Patch(facecolor='red', alpha=0.5)]\n",
    "for k in range(4):\n",
    "    ax[i, j].hist(data[data.stabf == 0][[f'tau{k+1}']], alpha=0.5, color='blue')\n",
    "    ax[i, j].hist(data[data.stabf == 1][[f'tau{k+1}']], alpha=0.5, color='red')\n",
    "    ax[i, j].set_xlabel(f'tau{k+1}')\n",
    "    ax[i, j].set_ylabel('Frequency')\n",
    "    j += 1\n",
    "    if j == 2:\n",
    "        j = 0\n",
    "        i += 1\n",
    "fig.suptitle('tau')\n",
    "fig.legend(legend, ['stable', 'unstable'])\n",
    "plt.tight_layout()\n",
    "plt.show()"
   ],
   "metadata": {
    "collapsed": false,
    "pycharm": {
     "name": "#%%\n"
    }
   }
  },
  {
   "cell_type": "code",
   "execution_count": 36,
   "outputs": [
    {
     "data": {
      "text/plain": "<Figure size 1152x576 with 0 Axes>"
     },
     "metadata": {},
     "output_type": "display_data"
    },
    {
     "data": {
      "text/plain": "<Figure size 432x288 with 4 Axes>",
      "image/png": "[encoded data removed]"
     },
     "metadata": {},
     "output_type": "display_data"
    }
   ],
   "source": [
    "plt.figure(figsize=(16, 8))\n",
    "fig, ax = plt.subplots(2, 2)\n",
    "i = 0\n",
    "j = 0\n",
    "legend = [Patch(facecolor='blue', alpha=0.5),\n",
    "          Patch(facecolor='red', alpha=0.5)]\n",
    "for k in range(4):\n",
    "    ax[i, j].hist(data[data.stabf == 0][[f'p{k+1}']], alpha=0.5, color='blue')\n",
    "    ax[i, j].hist(data[data.stabf == 1][[f'p{k+1}']], alpha=0.5, color='red')\n",
    "    ax[i, j].set_xlabel(f'p{k+1}')\n",
    "    ax[i, j].set_ylabel('Frequency')\n",
    "    j += 1\n",
    "    if j == 2:\n",
    "        j = 0\n",
    "        i += 1\n",
    "fig.suptitle('p')\n",
    "fig.legend(legend, ['stable', 'unstable'])\n",
    "plt.tight_layout()\n",
    "plt.show()"
   ],
   "metadata": {
    "collapsed": false,
    "pycharm": {
     "name": "#%%\n"
    }
   }
  },
  {
   "cell_type": "code",
   "execution_count": 37,
   "outputs": [
    {
     "data": {
      "text/plain": "<Figure size 1152x576 with 0 Axes>"
     },
     "metadata": {},
     "output_type": "display_data"
    },
    {
     "data": {
      "text/plain": "<Figure size 432x288 with 4 Axes>",
      "image/png": "[encoded data removed]"
     },
     "metadata": {},
     "output_type": "display_data"
    }
   ],
   "source": [
    "plt.figure(figsize=(16, 8))\n",
    "fig, ax = plt.subplots(2, 2)\n",
    "i = 0\n",
    "j = 0\n",
    "legend = [Patch(facecolor='blue', alpha=0.5),\n",
    "          Patch(facecolor='red', alpha=0.5)]\n",
    "for k in range(4):\n",
    "    ax[i, j].hist(data[data.stabf == 0][[f'g{k+1}']], alpha=0.5, color='blue')\n",
    "    ax[i, j].hist(data[data.stabf == 1][[f'g{k+1}']], alpha=0.5, color='red')\n",
    "    ax[i, j].set_xlabel(f'g{k+1}')\n",
    "    ax[i, j].set_ylabel('Frequency')\n",
    "    j += 1\n",
    "    if j == 2:\n",
    "        j = 0\n",
    "        i += 1\n",
    "fig.suptitle('g')\n",
    "fig.legend(legend, ['stable', 'unstable'])\n",
    "plt.tight_layout()\n",
    "plt.show()"
   ],
   "metadata": {
    "collapsed": false,
    "pycharm": {
     "name": "#%%\n"
    }
   }
  },
  {
   "cell_type": "markdown",
   "source": [
    "The p feature could be potentially dropped for linear models, since the correlation is low. For each model, a version without the p feature will be scored along with all of the features together."
   ],
   "metadata": {
    "collapsed": false,
    "pycharm": {
     "name": "#%% md\n"
    }
   }
  },
  {
   "cell_type": "code",
   "execution_count": 38,
   "outputs": [
    {
     "data": {
      "text/plain": "          tau1      tau2      tau3      tau4        g1        g2        g3  \\\n2396  7.868205  3.177032  8.679133  5.747742  0.699309  0.677815  0.660942   \n1853  7.231598  0.821405  5.948496  4.818410  0.255591  0.374161  0.391151   \n3560  3.195612  7.658832  3.038577  2.767142  0.572445  0.566165  0.589529   \n3089  3.470796  7.536089  4.404572  4.912880  0.536886  0.624458  0.547419   \n8258  3.328847  7.479044  7.394988  0.810869  0.203568  0.650212  0.949980   \n...        ...       ...       ...       ...       ...       ...       ...   \n8890  8.974265  5.055780  7.091820  9.110993  0.496689  0.586284  0.296340   \n2217  6.879395  1.783336  1.004932  7.229903  0.438394  0.518469  0.215167   \n6527  6.315242  2.703028  9.116152  4.482906  0.840321  0.911523  0.233065   \n5209  4.599969  5.423175  5.718775  2.732052  0.288705  0.859399  0.539599   \n2548  6.991845  3.284330  8.430709  5.144754  0.885736  0.463418  0.957552   \n\n            g4  \n2396  0.427197  \n1853  0.641752  \n3560  0.218758  \n3089  0.682132  \n8258  0.112530  \n...        ...  \n8890  0.254126  \n2217  0.839316  \n6527  0.726080  \n5209  0.065688  \n2548  0.482815  \n\n[7000 rows x 8 columns]",
      "text/html": "<div>\n<style scoped>\n    .dataframe tbody tr th:only-of-type {\n        vertical-align: middle;\n    }\n\n    .dataframe tbody tr th {\n        vertical-align: top;\n    }\n\n    .dataframe thead th {\n        text-align: right;\n    }\n</style>\n<table border=\"1\" class=\"dataframe\">\n  <thead>\n    <tr style=\"text-align: right;\">\n      <th></th>\n      <th>tau1</th>\n      <th>tau2</th>\n      <th>tau3</th>\n      <th>tau4</th>\n      <th>g1</th>\n      <th>g2</th>\n      <th>g3</th>\n      <th>g4</th>\n    </tr>\n  </thead>\n  <tbody>\n    <tr>\n      <th>2396</th>\n      <td>7.868205</td>\n      <td>3.177032</td>\n      <td>8.679133</td>\n      <td>5.747742</td>\n      <td>0.699309</td>\n      <td>0.677815</td>\n      <td>0.660942</td>\n      <td>0.427197</td>\n    </tr>\n    <tr>\n      <th>1853</th>\n      <td>7.231598</td>\n      <td>0.821405</td>\n      <td>5.948496</td>\n      <td>4.818410</td>\n      <td>0.255591</td>\n      <td>0.374161</td>\n      <td>0.391151</td>\n      <td>0.641752</td>\n    </tr>\n    <tr>\n      <th>3560</th>\n      <td>3.195612</td>\n      <td>7.658832</td>\n      <td>3.038577</td>\n      <td>2.767142</td>\n      <td>0.572445</td>\n      <td>0.566165</td>\n      <td>0.589529</td>\n      <td>0.218758</td>\n    </tr>\n    <tr>\n      <th>3089</th>\n      <td>3.470796</td>\n      <td>7.536089</td>\n      <td>4.404572</td>\n      <td>4.912880</td>\n      <td>0.536886</td>\n      <td>0.624458</td>\n      <td>0.547419</td>\n      <td>0.682132</td>\n    </tr>\n    <tr>\n      <th>8258</th>\n      <td>3.328847</td>\n      <td>7.479044</td>\n      <td>7.394988</td>\n      <td>0.810869</td>\n      <td>0.203568</td>\n      <td>0.650212</td>\n      <td>0.949980</td>\n      <td>0.112530</td>\n    </tr>\n    <tr>\n      <th>...</th>\n      <td>...</td>\n      <td>...</td>\n      <td>...</td>\n      <td>...</td>\n      <td>...</td>\n      <td>...</td>\n      <td>...</td>\n      <td>...</td>\n    </tr>\n    <tr>\n      <th>8890</th>\n      <td>8.974265</td>\n      <td>5.055780</td>\n      <td>7.091820</td>\n      <td>9.110993</td>\n      <td>0.496689</td>\n      <td>0.586284</td>\n      <td>0.296340</td>\n      <td>0.254126</td>\n    </tr>\n    <tr>\n      <th>2217</th>\n      <td>6.879395</td>\n      <td>1.783336</td>\n      <td>1.004932</td>\n      <td>7.229903</td>\n      <td>0.438394</td>\n      <td>0.518469</td>\n      <td>0.215167</td>\n      <td>0.839316</td>\n    </tr>\n    <tr>\n      <th>6527</th>\n      <td>6.315242</td>\n      <td>2.703028</td>\n      <td>9.116152</td>\n      <td>4.482906</td>\n      <td>0.840321</td>\n      <td>0.911523</td>\n      <td>0.233065</td>\n      <td>0.726080</td>\n    </tr>\n    <tr>\n      <th>5209</th>\n      <td>4.599969</td>\n      <td>5.423175</td>\n      <td>5.718775</td>\n      <td>2.732052</td>\n      <td>0.288705</td>\n      <td>0.859399</td>\n      <td>0.539599</td>\n      <td>0.065688</td>\n    </tr>\n    <tr>\n      <th>2548</th>\n      <td>6.991845</td>\n      <td>3.284330</td>\n      <td>8.430709</td>\n      <td>5.144754</td>\n      <td>0.885736</td>\n      <td>0.463418</td>\n      <td>0.957552</td>\n      <td>0.482815</td>\n    </tr>\n  </tbody>\n</table>\n<p>7000 rows × 8 columns</p>\n</div>"
     },
     "execution_count": 38,
     "metadata": {},
     "output_type": "execute_result"
    }
   ],
   "source": [
    "p_cols = [col for col in X if col.startswith('p')]\n",
    "X_train_no_p = X_train.drop(columns=p_cols)\n",
    "X_test_no_p = X_test.drop(columns=p_cols)\n",
    "X_train_no_p"
   ],
   "metadata": {
    "collapsed": false,
    "pycharm": {
     "name": "#%%\n"
    }
   }
  },
  {
   "cell_type": "markdown",
   "source": [
    "## Logistic Regression Model"
   ],
   "metadata": {
    "collapsed": false,
    "pycharm": {
     "name": "#%% md\n"
    }
   }
  },
  {
   "cell_type": "markdown",
   "source": [
    "### Training"
   ],
   "metadata": {
    "collapsed": false,
    "pycharm": {
     "name": "#%% md\n"
    }
   }
  },
  {
   "cell_type": "code",
   "execution_count": 39,
   "outputs": [
    {
     "name": "stderr",
     "output_type": "stream",
     "text": [
      "C:\\Users\\prest\\anaconda3\\envs\\Tensorflow\\lib\\site-packages\\sklearn\\linear_model\\_sag.py:352: ConvergenceWarning: The max_iter was reached which means the coef_ did not converge\n",
      "  warnings.warn(\n"
     ]
    },
    {
     "data": {
      "text/plain": "GridSearchCV(cv=5, estimator=LogisticRegression(), n_jobs=-1,\n             param_grid={'C': array([1.00000000e-05, 1.38949549e-05, 1.93069773e-05, 2.68269580e-05,\n       3.72759372e-05, 5.17947468e-05, 7.19685673e-05, 1.00000000e-04,\n       1.38949549e-04, 1.93069773e-04, 2.68269580e-04, 3.72759372e-04,\n       5.17947468e-04, 7.19685673e-04, 1.00000000e-03, 1.38949549e-03,\n       1.93069773e-03, 2.68269580e-0...\n       1.00000000e-01, 1.38949549e-01, 1.93069773e-01, 2.68269580e-01,\n       3.72759372e-01, 5.17947468e-01, 7.19685673e-01, 1.00000000e+00,\n       1.38949549e+00, 1.93069773e+00, 2.68269580e+00, 3.72759372e+00,\n       5.17947468e+00, 7.19685673e+00, 1.00000000e+01, 1.38949549e+01,\n       1.93069773e+01, 2.68269580e+01, 3.72759372e+01, 5.17947468e+01,\n       7.19685673e+01, 1.00000000e+02]),\n                         'penalty': ('l1', 'l2'),\n                         'solver': ('liblinear', 'saga')},\n             scoring='roc_auc')"
     },
     "execution_count": 39,
     "metadata": {},
     "output_type": "execute_result"
    }
   ],
   "source": [
    "params = {\n",
    "    'penalty': ('l1', 'l2'),\n",
    "    'C': np.logspace(-5, 2, 50),\n",
    "    'solver': ('liblinear', 'saga')\n",
    "}\n",
    "clf = GridSearchCV(LogisticRegression(), params, cv=5, scoring='roc_auc', n_jobs=-1)\n",
    "clf.fit(X_train, y_train)"
   ],
   "metadata": {
    "collapsed": false,
    "pycharm": {
     "name": "#%%\n"
    }
   }
  },
  {
   "cell_type": "markdown",
   "source": [
    "### Testing"
   ],
   "metadata": {
    "collapsed": false,
    "pycharm": {
     "name": "#%% md\n"
    }
   }
  },
  {
   "cell_type": "code",
   "execution_count": 40,
   "outputs": [
    {
     "name": "stdout",
     "output_type": "stream",
     "text": [
      "With p:\n",
      "auc: 0.8855063591357262\n",
      "acc: 0.812\n"
     ]
    },
    {
     "data": {
      "text/plain": "<AxesSubplot:>"
     },
     "execution_count": 40,
     "metadata": {},
     "output_type": "execute_result"
    },
    {
     "data": {
      "text/plain": "<Figure size 432x288 with 2 Axes>",
      "image/png": "[encoded data removed]"
     },
     "metadata": {},
     "output_type": "display_data"
    }
   ],
   "source": [
    "y_pred = clf.predict(X_test)\n",
    "auc = clf.score(X_test, y_test)\n",
    "acc = accuracy_score(y_test, y_pred)\n",
    "cmat = confusion_matrix(y_test, y_pred)\n",
    "print(f'With p:\\nauc: {auc}\\nacc: {acc}')\n",
    "sns.heatmap(cmat / np.sum(cmat), cmap='Blues', annot=True, fmt='.0%')"
   ],
   "metadata": {
    "collapsed": false,
    "pycharm": {
     "name": "#%%\n"
    }
   }
  },
  {
   "cell_type": "markdown",
   "source": [
    "### Training without p"
   ],
   "metadata": {
    "collapsed": false,
    "pycharm": {
     "name": "#%% md\n"
    }
   }
  },
  {
   "cell_type": "code",
   "execution_count": 41,
   "outputs": [
    {
     "name": "stderr",
     "output_type": "stream",
     "text": [
      "C:\\Users\\prest\\anaconda3\\envs\\Tensorflow\\lib\\site-packages\\sklearn\\linear_model\\_sag.py:352: ConvergenceWarning: The max_iter was reached which means the coef_ did not converge\n",
      "  warnings.warn(\n"
     ]
    },
    {
     "data": {
      "text/plain": "GridSearchCV(cv=5, estimator=LogisticRegression(), n_jobs=-1,\n             param_grid={'C': array([1.00000000e-05, 1.38949549e-05, 1.93069773e-05, 2.68269580e-05,\n       3.72759372e-05, 5.17947468e-05, 7.19685673e-05, 1.00000000e-04,\n       1.38949549e-04, 1.93069773e-04, 2.68269580e-04, 3.72759372e-04,\n       5.17947468e-04, 7.19685673e-04, 1.00000000e-03, 1.38949549e-03,\n       1.93069773e-03, 2.68269580e-0...\n       1.00000000e-01, 1.38949549e-01, 1.93069773e-01, 2.68269580e-01,\n       3.72759372e-01, 5.17947468e-01, 7.19685673e-01, 1.00000000e+00,\n       1.38949549e+00, 1.93069773e+00, 2.68269580e+00, 3.72759372e+00,\n       5.17947468e+00, 7.19685673e+00, 1.00000000e+01, 1.38949549e+01,\n       1.93069773e+01, 2.68269580e+01, 3.72759372e+01, 5.17947468e+01,\n       7.19685673e+01, 1.00000000e+02]),\n                         'penalty': ('l1', 'l2'),\n                         'solver': ('liblinear', 'saga')},\n             scoring='roc_auc')"
     },
     "execution_count": 41,
     "metadata": {},
     "output_type": "execute_result"
    }
   ],
   "source": [
    "clf = GridSearchCV(LogisticRegression(), params, cv=5, scoring='roc_auc', n_jobs=-1)\n",
    "clf.fit(X_train_no_p, y_train)"
   ],
   "metadata": {
    "collapsed": false,
    "pycharm": {
     "name": "#%%\n"
    }
   }
  },
  {
   "cell_type": "markdown",
   "source": [
    "### Testing without p"
   ],
   "metadata": {
    "collapsed": false,
    "pycharm": {
     "name": "#%% md\n"
    }
   }
  },
  {
   "cell_type": "code",
   "execution_count": 42,
   "outputs": [
    {
     "name": "stdout",
     "output_type": "stream",
     "text": [
      "Without p:\n",
      "auc: 0.8855077950927603\n",
      "acc: 0.8113333333333334\n"
     ]
    },
    {
     "data": {
      "text/plain": "<AxesSubplot:>"
     },
     "execution_count": 42,
     "metadata": {},
     "output_type": "execute_result"
    },
    {
     "data": {
      "text/plain": "<Figure size 432x288 with 2 Axes>",
      "image/png": "[encoded data removed]"
     },
     "metadata": {},
     "output_type": "display_data"
    }
   ],
   "source": [
    "y_pred = clf.predict(X_test_no_p)\n",
    "auc = clf.score(X_test_no_p, y_test)\n",
    "acc = accuracy_score(y_test, y_pred)\n",
    "cmat = confusion_matrix(y_test, y_pred)\n",
    "print(f'Without p:\\nauc: {auc}\\nacc: {acc}')\n",
    "sns.heatmap(cmat / np.sum(cmat), cmap='Blues', annot=True, fmt='.0%')"
   ],
   "metadata": {
    "collapsed": false,
    "pycharm": {
     "name": "#%%\n"
    }
   }
  },
  {
   "cell_type": "markdown",
   "source": [
    "## Random Forest"
   ],
   "metadata": {
    "collapsed": false,
    "pycharm": {
     "name": "#%% md\n"
    }
   }
  },
  {
   "cell_type": "markdown",
   "source": [
    "### Training"
   ],
   "metadata": {
    "collapsed": false,
    "pycharm": {
     "name": "#%% md\n"
    }
   }
  },
  {
   "cell_type": "code",
   "execution_count": 43,
   "outputs": [
    {
     "data": {
      "text/plain": "GridSearchCV(cv=5, estimator=RandomForestClassifier(), n_jobs=-1,\n             param_grid={'max_depth': array([ 50, 100, 150, 200]),\n                         'n_estimators': array([100, 200, 300, 400, 500])},\n             scoring='roc_auc')"
     },
     "execution_count": 43,
     "metadata": {},
     "output_type": "execute_result"
    }
   ],
   "source": [
    "params = {\n",
    "    'n_estimators': np.arange(100, 600, 100),\n",
    "    'max_depth': np.arange(50, 250, 50)\n",
    "}\n",
    "clf = GridSearchCV(RandomForestClassifier(), params, cv=5, scoring='roc_auc', n_jobs=-1)\n",
    "clf.fit(X_train, y_train)"
   ],
   "metadata": {
    "collapsed": false,
    "pycharm": {
     "name": "#%%\n"
    }
   }
  },
  {
   "cell_type": "markdown",
   "source": [
    "### Testing"
   ],
   "metadata": {
    "collapsed": false,
    "pycharm": {
     "name": "#%% md\n"
    }
   }
  },
  {
   "cell_type": "code",
   "execution_count": 44,
   "outputs": [
    {
     "name": "stdout",
     "output_type": "stream",
     "text": [
      "With p:\n",
      "auc:0.9831210430408974\n",
      "acc:0.9273333333333333\n"
     ]
    },
    {
     "data": {
      "text/plain": "<AxesSubplot:>"
     },
     "execution_count": 44,
     "metadata": {},
     "output_type": "execute_result"
    },
    {
     "data": {
      "text/plain": "<Figure size 432x288 with 2 Axes>",
      "image/png": "[encoded data removed]"
     },
     "metadata": {},
     "output_type": "display_data"
    }
   ],
   "source": [
    "y_pred = clf.predict(X_test)\n",
    "auc = clf.score(X_test, y_test)\n",
    "acc = accuracy_score(y_test, y_pred)\n",
    "cmat = confusion_matrix(y_test, y_pred)\n",
    "print(f'With p:\\nauc:{auc}\\nacc:{acc}')\n",
    "sns.heatmap(cmat / np.sum(cmat), cmap='Blues', annot=True, fmt='.0%')"
   ],
   "metadata": {
    "collapsed": false,
    "pycharm": {
     "name": "#%%\n"
    }
   }
  },
  {
   "cell_type": "markdown",
   "source": [
    "### Training without p col"
   ],
   "metadata": {
    "collapsed": false,
    "pycharm": {
     "name": "#%% md\n"
    }
   }
  },
  {
   "cell_type": "code",
   "execution_count": 45,
   "outputs": [
    {
     "data": {
      "text/plain": "GridSearchCV(cv=5, estimator=RandomForestClassifier(), n_jobs=-1,\n             param_grid={'max_depth': array([ 50, 100, 150, 200]),\n                         'n_estimators': array([100, 200, 300, 400, 500])},\n             scoring='roc_auc')"
     },
     "execution_count": 45,
     "metadata": {},
     "output_type": "execute_result"
    }
   ],
   "source": [
    "clf = GridSearchCV(RandomForestClassifier(), params, cv=5, scoring='roc_auc', n_jobs=-1)\n",
    "clf.fit(X_train_no_p, y_train)\n"
   ],
   "metadata": {
    "collapsed": false,
    "pycharm": {
     "name": "#%%\n"
    }
   }
  },
  {
   "cell_type": "markdown",
   "source": [
    "### Testing without p"
   ],
   "metadata": {
    "collapsed": false,
    "pycharm": {
     "name": "#%% md\n"
    }
   }
  },
  {
   "cell_type": "code",
   "execution_count": 46,
   "outputs": [
    {
     "name": "stdout",
     "output_type": "stream",
     "text": [
      "Without p:\n",
      "auc:0.9851522042658455\n",
      "acc:0.9313333333333333\n"
     ]
    },
    {
     "data": {
      "text/plain": "<AxesSubplot:>"
     },
     "execution_count": 46,
     "metadata": {},
     "output_type": "execute_result"
    },
    {
     "data": {
      "text/plain": "<Figure size 432x288 with 2 Axes>",
      "image/png": "[encoded data removed]"
     },
     "metadata": {},
     "output_type": "display_data"
    }
   ],
   "source": [
    "y_pred = clf.predict(X_test_no_p)\n",
    "auc = clf.score(X_test_no_p, y_test)\n",
    "acc = accuracy_score(y_test, y_pred)\n",
    "cmat = confusion_matrix(y_test, y_pred)\n",
    "print(f'Without p:\\nauc:{auc}\\nacc:{acc}')\n",
    "sns.heatmap(cmat / np.sum(cmat), cmap='Blues', annot=True, fmt='.0%')"
   ],
   "metadata": {
    "collapsed": false,
    "pycharm": {
     "name": "#%%\n"
    }
   }
  },
  {
   "cell_type": "markdown",
   "source": [
    "## Xgboost"
   ],
   "metadata": {
    "collapsed": false,
    "pycharm": {
     "name": "#%% md\n"
    }
   }
  },
  {
   "cell_type": "markdown",
   "source": [
    "### Training"
   ],
   "metadata": {
    "collapsed": false,
    "pycharm": {
     "name": "#%% md\n"
    }
   }
  },
  {
   "cell_type": "code",
   "execution_count": 47,
   "outputs": [
    {
     "data": {
      "text/plain": "GridSearchCV(cv=5, estimator=XGBClassifier(), n_jobs=-1,\n             param_grid={'eta': array([1.e-06, 1.e-05, 1.e-04, 1.e-03, 1.e-02, 1.e-01, 1.e+00]),\n                         'max_depth': array([ 50, 100, 150, 200])},\n             scoring='roc_auc')"
     },
     "execution_count": 47,
     "metadata": {},
     "output_type": "execute_result"
    }
   ],
   "source": [
    "params = {\n",
    "    'eta': np.logspace(-6, 0, 7),\n",
    "    'max_depth': np.arange(50, 250, 50)\n",
    "}\n",
    "clf = GridSearchCV(XGBClassifier(), params, cv=5, scoring='roc_auc', n_jobs=-1)\n",
    "clf.fit(X_train, y_train)"
   ],
   "metadata": {
    "collapsed": false,
    "pycharm": {
     "name": "#%%\n"
    }
   }
  },
  {
   "cell_type": "markdown",
   "source": [
    "### Testing"
   ],
   "metadata": {
    "collapsed": false,
    "pycharm": {
     "name": "#%% md\n"
    }
   }
  },
  {
   "cell_type": "code",
   "execution_count": 48,
   "outputs": [
    {
     "name": "stdout",
     "output_type": "stream",
     "text": [
      "With p:\n",
      "auc:0.9880245969866921\n",
      "acc:0.9393333333333334\n"
     ]
    },
    {
     "data": {
      "text/plain": "<AxesSubplot:>"
     },
     "execution_count": 48,
     "metadata": {},
     "output_type": "execute_result"
    },
    {
     "data": {
      "text/plain": "<Figure size 432x288 with 2 Axes>",
      "image/png": "[encoded data removed]"
     },
     "metadata": {},
     "output_type": "display_data"
    }
   ],
   "source": [
    "y_pred = clf.predict(X_test)\n",
    "auc = clf.score(X_test, y_test)\n",
    "acc = accuracy_score(y_test, y_pred)\n",
    "cmat = confusion_matrix(y_test, y_pred)\n",
    "print(f'With p:\\nauc:{auc}\\nacc:{acc}')\n",
    "sns.heatmap(cmat / np.sum(cmat), cmap='Blues', annot=True, fmt='.0%')"
   ],
   "metadata": {
    "collapsed": false,
    "pycharm": {
     "name": "#%%\n"
    }
   }
  },
  {
   "cell_type": "markdown",
   "source": [
    "### Training without p"
   ],
   "metadata": {
    "collapsed": false,
    "pycharm": {
     "name": "#%% md\n"
    }
   }
  },
  {
   "cell_type": "code",
   "execution_count": 49,
   "outputs": [
    {
     "data": {
      "text/plain": "GridSearchCV(cv=5, estimator=XGBClassifier(), n_jobs=-1,\n             param_grid={'eta': array([1.e-06, 1.e-05, 1.e-04, 1.e-03, 1.e-02, 1.e-01, 1.e+00]),\n                         'max_depth': array([ 50, 100, 150, 200])},\n             scoring='roc_auc')"
     },
     "execution_count": 49,
     "metadata": {},
     "output_type": "execute_result"
    }
   ],
   "source": [
    "clf = GridSearchCV(XGBClassifier(), params, cv=5, scoring='roc_auc', n_jobs=-1)\n",
    "clf.fit(X_train_no_p, y_train)"
   ],
   "metadata": {
    "collapsed": false,
    "pycharm": {
     "name": "#%%\n"
    }
   }
  },
  {
   "cell_type": "markdown",
   "source": [
    "### Testing without p"
   ],
   "metadata": {
    "collapsed": false,
    "pycharm": {
     "name": "#%% md\n"
    }
   }
  },
  {
   "cell_type": "code",
   "execution_count": 50,
   "outputs": [
    {
     "name": "stdout",
     "output_type": "stream",
     "text": [
      "Without p:\n",
      "auc:0.9886525888630046\n",
      "acc:0.9406666666666667\n"
     ]
    },
    {
     "data": {
      "text/plain": "<AxesSubplot:>"
     },
     "execution_count": 50,
     "metadata": {},
     "output_type": "execute_result"
    },
    {
     "data": {
      "text/plain": "<Figure size 432x288 with 2 Axes>",
      "image/png": "[encoded data removed]"
     },
     "metadata": {},
     "output_type": "display_data"
    }
   ],
   "source": [
    "y_pred = clf.predict(X_test_no_p)\n",
    "auc = clf.score(X_test_no_p, y_test)\n",
    "acc = accuracy_score(y_test, y_pred)\n",
    "cmat = confusion_matrix(y_test, y_pred)\n",
    "print(f'Without p:\\nauc:{auc}\\nacc:{acc}')\n",
    "sns.heatmap(cmat / np.sum(cmat), cmap='Blues', annot=True, fmt='.0%')"
   ],
   "metadata": {
    "collapsed": false,
    "pycharm": {
     "name": "#%%\n"
    }
   }
  },
  {
   "cell_type": "markdown",
   "source": [
    "# Neural Network"
   ],
   "metadata": {
    "collapsed": false,
    "pycharm": {
     "name": "#%% md\n"
    }
   }
  },
  {
   "cell_type": "markdown",
   "source": [
    "### Training"
   ],
   "metadata": {
    "collapsed": false,
    "pycharm": {
     "name": "#%% md\n"
    }
   }
  },
  {
   "cell_type": "code",
   "execution_count": 51,
   "outputs": [],
   "source": [
    "kfold = KFold(n_splits=5)\n",
    "inputs = np.asarray(X_train)\n",
    "input_no_p = np.asarray(X_train_no_p)\n",
    "target = np.asarray(y_train)\n",
    "split_data = list(kfold.split(inputs, target))\n",
    "split_data_no_p = list(kfold.split(input_no_p, target))"
   ],
   "metadata": {
    "collapsed": false,
    "pycharm": {
     "name": "#%%\n"
    }
   }
  },
  {
   "cell_type": "code",
   "execution_count": 52,
   "outputs": [],
   "source": [
    "def create_model():\n",
    "    model = Sequential()\n",
    "    model.add(Dense(1024, 'relu'))\n",
    "    model.add(Dense(128, 'relu'))\n",
    "    model.add(Dense(8, 'exponential'))\n",
    "    model.add(Dense(128, 'relu'))\n",
    "    model.add(Dense(1024, 'selu'))\n",
    "    model.add(Dropout(0.7))\n",
    "    model.add(Dense(1, 'sigmoid'))\n",
    "    optimizer = Adam(learning_rate=1e-3)\n",
    "    model.compile(optimizer=optimizer, loss='binary_crossentropy', metrics=['AUC', 'accuracy'])\n",
    "    return model"
   ],
   "metadata": {
    "collapsed": false,
    "pycharm": {
     "name": "#%%\n"
    }
   }
  },
  {
   "cell_type": "code",
   "execution_count": 53,
   "outputs": [
    {
     "name": "stdout",
     "output_type": "stream",
     "text": [
      "0.9603152060688827\n"
     ]
    }
   ],
   "source": [
    "clf = create_model()\n",
    "listed_scores = []\n",
    "for train, val in split_data:\n",
    "    early_stopping = EarlyStopping(monitor='val_auc', patience=10, restore_best_weights=True)\n",
    "    reduce_lr = ReduceLROnPlateau(monitor='val_auc', factor=0.5, patience=2, min_lr=1e-4)\n",
    "    clf.fit(inputs[train], target[train], validation_data=(inputs[val], target[val]), callbacks=[early_stopping, reduce_lr], batch_size=16, validation_batch_size=3, epochs=999999, verbose=0)\n",
    "    y_preds = clf.predict(inputs[val])\n",
    "    listed_scores.append(roc_auc_score(target[val], y_preds))\n",
    "print(np.mean(listed_scores))"
   ],
   "metadata": {
    "collapsed": false,
    "pycharm": {
     "name": "#%%\n"
    }
   }
  },
  {
   "cell_type": "markdown",
   "source": [
    "### Testing"
   ],
   "metadata": {
    "collapsed": false,
    "pycharm": {
     "name": "#%% md\n"
    }
   }
  },
  {
   "cell_type": "code",
   "execution_count": 54,
   "outputs": [
    {
     "name": "stdout",
     "output_type": "stream",
     "text": [
      "With p:\n",
      "auc: 0.9686923027038574\n",
      "acc: 0.9026666879653931\n"
     ]
    },
    {
     "data": {
      "text/plain": "<AxesSubplot:>"
     },
     "execution_count": 54,
     "metadata": {},
     "output_type": "execute_result"
    },
    {
     "data": {
      "text/plain": "<Figure size 432x288 with 2 Axes>",
      "image/png": "[encoded data removed]"
     },
     "metadata": {},
     "output_type": "display_data"
    }
   ],
   "source": [
    "_, auc, acc = clf.evaluate(X_test, y_test, verbose=0)\n",
    "y_pred = np.round(clf.predict(X_test))\n",
    "cmat = confusion_matrix(y_test, y_pred)\n",
    "print(f'With p:\\nauc: {auc}\\nacc: {acc}')\n",
    "sns.heatmap(cmat / np.sum(cmat), cmap='Blues', annot=True, fmt='.0%')"
   ],
   "metadata": {
    "collapsed": false,
    "pycharm": {
     "name": "#%%\n"
    }
   }
  },
  {
   "cell_type": "markdown",
   "source": [
    "### Training no p"
   ],
   "metadata": {
    "collapsed": false,
    "pycharm": {
     "name": "#%% md\n"
    }
   }
  },
  {
   "cell_type": "code",
   "execution_count": 55,
   "outputs": [],
   "source": [
    "clf = create_model()\n",
    "for train, val in split_data_no_p:\n",
    "    early_stopping = EarlyStopping(monitor='val_auc', patience=10, restore_best_weights=True)\n",
    "    reduce_lr = ReduceLROnPlateau(monitor='val_auc', factor=0.5, patience=2, min_lr=1e-4)\n",
    "    clf.fit(input_no_p[train], target[train], validation_data=(input_no_p[val], target[val]), callbacks=[early_stopping, reduce_lr], batch_size=16, validation_batch_size=3, epochs=999999, verbose=0)\n"
   ],
   "metadata": {
    "collapsed": false,
    "pycharm": {
     "name": "#%%\n"
    }
   }
  },
  {
   "cell_type": "markdown",
   "source": [
    "### Testing no p"
   ],
   "metadata": {
    "collapsed": false,
    "pycharm": {
     "name": "#%% md\n"
    }
   }
  },
  {
   "cell_type": "code",
   "execution_count": 56,
   "outputs": [
    {
     "name": "stdout",
     "output_type": "stream",
     "text": [
      "Without p:\n",
      "auc: 0.9827035069465637\n",
      "acc: 0.9359999895095825\n"
     ]
    },
    {
     "data": {
      "text/plain": "<Figure size 432x288 with 2 Axes>",
      "image/png": "[encoded data removed]"
     },
     "metadata": {},
     "output_type": "display_data"
    }
   ],
   "source": [
    "_, auc, acc = clf.evaluate(X_test_no_p, y_test, verbose=0)\n",
    "y_pred = np.round(clf.predict(X_test_no_p))\n",
    "cmat = confusion_matrix(y_test, y_pred)\n",
    "print(f'Without p:\\nauc: {auc}\\nacc: {acc}')\n",
    "sns.heatmap(cmat / np.sum(cmat), cmap='Blues', annot=True, fmt='.0%')\n",
    "plt.show()"
   ],
   "metadata": {
    "collapsed": false,
    "pycharm": {
     "name": "#%%\n"
    }
   }
  }
 ],
 "metadata": {
  "kernelspec": {
   "display_name": "Python 3",
   "language": "python",
   "name": "python3"
  },
  "language_info": {
   "codemirror_mode": {
    "name": "ipython",
    "version": 2
   },
   "file_extension": ".py",
   "mimetype": "text/x-python",
   "name": "python",
   "nbconvert_exporter": "python",
   "pygments_lexer": "ipython2",
   "version": "2.7.6"
  }
 },
 "nbformat": 4,
 "nbformat_minor": 0
}